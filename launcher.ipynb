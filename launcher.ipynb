{
  "cells": [
    {
      "cell_type": "code",
      "execution_count": null,
      "metadata": {
        "id": "clax1XB9ae0R"
      },
      "outputs": [],
      "source": [
        "# @title Hide Code",
        "from time import sleep\n",
        "import subprocess\n",
        "!curl ipv4.icanhazip.com\n",
        "!git clone https://github.com/Malcolm-Q/pocket_editor.git >/dev/null 2>&1\n",
        "!pip install -q -r pocket_editor/requirements.txt > /dev/null 2>&1\n",
        "!npm install localtunnel --silent > /dev/null 2>&1\n",
        "!streamlit run pocket_editor/Home.py &>/content/logs.txt &\n",
        "\n",
        "command = \"npx localtunnel --port 8501\"\n",
        "process = subprocess.Popen(command,shell=True,stdout=subprocess.PIPE,stderr=subprocess.DEVNULL,text=True,bufsize=1)\n",
        "\n",
        "for line in process.stdout:\n",
        "    line = line.strip()\n",
        "    if line.startswith(\"your url is: \"):\n",
        "        url = line.split(' ')[-1]\n",
        "        print(\"Click this link and enter the IP above into the field:\\n\", url)\n",
        "        break\n"
      ]
    }
  ],
  "metadata": {
    "language_info": {
      "name": "python"
    },
    "orig_nbformat": 4,
    "colab": {
      "provenance": []
    },
    "kernelspec": {
      "name": "python3",
      "display_name": "Python 3"
    }
  },
  "nbformat": 4,
  "nbformat_minor": 0
}
